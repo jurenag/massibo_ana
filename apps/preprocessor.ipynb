{
 "cells": [
  {
   "cell_type": "markdown",
   "metadata": {},
   "source": [
    "# 0. Import required packages"
   ]
  },
  {
   "cell_type": "code",
   "execution_count": 2,
   "metadata": {},
   "outputs": [],
   "source": [
    "import os\n",
    "import yaml\n",
    "from massibo_ana.preprocess.DataPreprocessor import DataPreprocessor"
   ]
  },
  {
   "cell_type": "markdown",
   "metadata": {},
   "source": [
    "# 1. Load the input parameters and change the WD to the workspace"
   ]
  },
  {
   "cell_type": "code",
   "execution_count": 3,
   "metadata": {},
   "outputs": [],
   "source": [
    "# Write here the ABSOLUTE path to the input parameters file\n",
    "input_parameters_filepath = ''\n",
    "\n",
    "with open(\n",
    "        input_parameters_filepath,\n",
    "        \"r\",\n",
    "        encoding=\"utf-8\"\n",
    "    ) as file:\n",
    "        \n",
    "        params = yaml.safe_load(file)\n",
    "\n",
    "os.chdir(params['input_data_folderpath'])\n",
    "load_dir = \"load/\"\n",
    "summary_dir = \"summary/\""
   ]
  },
  {
   "cell_type": "code",
   "execution_count": 4,
   "metadata": {},
   "outputs": [],
   "source": [
    "# Run this one to load the actual workspace\n",
    "root_directory = params['workspace_dir']\n",
    "load_folderpath = root_directory + '/load'\n",
    "aux_folderpath = root_directory + '/aux'\n",
    "data_folderpath = root_directory + '/data'"
   ]
  },
  {
   "cell_type": "code",
   "execution_count": null,
   "metadata": {},
   "outputs": [],
   "source": [
    "# Check set parameters\n",
    "print(f\"Working from {params['input_data_folderpath']}\")\n",
    "print(f\"The pre-processed files will be placed in {root_directory}\")"
   ]
  },
  {
   "cell_type": "markdown",
   "metadata": {},
   "source": [
    "# 2. Check well-formed structure of measurements folder"
   ]
  },
  {
   "cell_type": "code",
   "execution_count": null,
   "metadata": {},
   "outputs": [],
   "source": [
    "warnings, analysable_folderpaths = DataPreprocessor.check_structure_of_input_folder(\n",
    "    params['input_data_folderpath'],\n",
    "    subfolders_no=7,\n",
    "    json_files_no_at_2nd_level=1,\n",
    "    json_files_no_at_3rd_level=1,\n",
    "    non_json_files_no_at_2nd_and_3rd_level=18\n",
    ")\n",
    "\n",
    "# Relate the analysable folderpaths to the working directory\n",
    "analysable_folderpaths = [\n",
    "    os.path.relpath(folderpath, params['input_data_folderpath']) \n",
    "    for folderpath in analysable_folderpaths\n",
    "]\n",
    "\n",
    "for warning in warnings:\n",
    "    print('--> ' + warning)"
   ]
  },
  {
   "cell_type": "markdown",
   "metadata": {},
   "source": [
    "# 3. Pre-process the data"
   ]
  },
  {
   "cell_type": "code",
   "execution_count": null,
   "metadata": {},
   "outputs": [],
   "source": [
    "for folderpath in analysable_folderpaths:\n",
    "    \n",
    "    print('Preprocessing folder: ' + folderpath)\n",
    "    print('-----------------------------------')\n",
    "\n",
    "    if DataPreprocessor.hosts_gain_data(folderpath):\n",
    "        json_default_values_filename = 'gainmeas_metadata.json'\n",
    "    else:\n",
    "        json_default_values_filename = 'darknoisemeas_metadata.json'\n",
    "\n",
    "    path_to_json_default_values = os.path.join(\n",
    "        folderpath, \n",
    "        json_default_values_filename\n",
    "    )\n",
    "\n",
    "    strips_ids = DataPreprocessor.grab_strip_IDs(\n",
    "        path_to_json_default_values,\n",
    "        3,\n",
    "        verbose=params['verbose']\n",
    "    )\n",
    "\n",
    "    mypreprocessor = DataPreprocessor(\n",
    "        folderpath,\n",
    "        darknoise_base=\"W\",\n",
    "        gain_base='G',\n",
    "        timestamp_prefix='ts_',\n",
    "        verbose=params['verbose']\n",
    "    )\n",
    "\n",
    "    mypreprocessor.generate_meas_config_files(\n",
    "        root_directory,\n",
    "        load_folderpath,\n",
    "        aux_folderpath,\n",
    "        data_folderpath,\n",
    "        wvf_skiprows_identifier='TIME,',\n",
    "        path_to_json_default_values=path_to_json_default_values,\n",
    "        sipms_per_strip=6,\n",
    "        strips_ids=strips_ids,\n",
    "        ask_for_inference_confirmation=False,\n",
    "        verbose=params['verbose']\n",
    "    )\n",
    "\n",
    "    print('-----------------------------------')\n",
    "    print('\\n\\n', end='')"
   ]
  }
 ],
 "metadata": {
  "kernelspec": {
   "display_name": "massibo_ana_venv",
   "language": "python",
   "name": "python3"
  },
  "language_info": {
   "codemirror_mode": {
    "name": "ipython",
    "version": 3
   },
   "file_extension": ".py",
   "mimetype": "text/x-python",
   "name": "python",
   "nbconvert_exporter": "python",
   "pygments_lexer": "ipython3",
   "version": "3.13.0"
  },
  "orig_nbformat": 4
 },
 "nbformat": 4,
 "nbformat_minor": 2
}
